{
 "cells": [
  {
   "cell_type": "markdown",
   "metadata": {},
   "source": [
    "## Observations and Insights"
   ]
  },
  {
   "cell_type": "markdown",
   "metadata": {},
   "source": [
    "1. Capumolin and Ramicane were tested the most with over 200 total tests. \n",
    "2. Tests conducted were relatively evenly split between gender.\n",
    "3. Capumolin and Ramicane also showed the lowest final tumor volumes (below 50).\n",
    "4. Mouse ID s185 showed a large decrease (-70%) in tumor volume over the measured time period.\n",
    "4. Mouse weight and tumor volume were very closely correlated."
   ]
  },
  {
   "cell_type": "markdown",
   "metadata": {},
   "source": [
    "## Dependencies and starter code"
   ]
  },
  {
   "cell_type": "code",
   "execution_count": 1,
   "metadata": {},
   "outputs": [
    {
     "data": {
      "text/html": [
       "<div>\n",
       "<style scoped>\n",
       "    .dataframe tbody tr th:only-of-type {\n",
       "        vertical-align: middle;\n",
       "    }\n",
       "\n",
       "    .dataframe tbody tr th {\n",
       "        vertical-align: top;\n",
       "    }\n",
       "\n",
       "    .dataframe thead th {\n",
       "        text-align: right;\n",
       "    }\n",
       "</style>\n",
       "<table border=\"1\" class=\"dataframe\">\n",
       "  <thead>\n",
       "    <tr style=\"text-align: right;\">\n",
       "      <th></th>\n",
       "      <th>Mouse ID</th>\n",
       "      <th>Drug Regimen</th>\n",
       "      <th>Sex</th>\n",
       "      <th>Age_months</th>\n",
       "      <th>Weight (g)</th>\n",
       "      <th>Timepoint</th>\n",
       "      <th>Tumor Volume (mm3)</th>\n",
       "      <th>Metastatic Sites</th>\n",
       "    </tr>\n",
       "  </thead>\n",
       "  <tbody>\n",
       "    <tr>\n",
       "      <td>0</td>\n",
       "      <td>k403</td>\n",
       "      <td>Ramicane</td>\n",
       "      <td>Male</td>\n",
       "      <td>21</td>\n",
       "      <td>16</td>\n",
       "      <td>0</td>\n",
       "      <td>45.000000</td>\n",
       "      <td>0</td>\n",
       "    </tr>\n",
       "    <tr>\n",
       "      <td>1</td>\n",
       "      <td>k403</td>\n",
       "      <td>Ramicane</td>\n",
       "      <td>Male</td>\n",
       "      <td>21</td>\n",
       "      <td>16</td>\n",
       "      <td>5</td>\n",
       "      <td>38.825898</td>\n",
       "      <td>0</td>\n",
       "    </tr>\n",
       "    <tr>\n",
       "      <td>2</td>\n",
       "      <td>k403</td>\n",
       "      <td>Ramicane</td>\n",
       "      <td>Male</td>\n",
       "      <td>21</td>\n",
       "      <td>16</td>\n",
       "      <td>10</td>\n",
       "      <td>35.014271</td>\n",
       "      <td>1</td>\n",
       "    </tr>\n",
       "    <tr>\n",
       "      <td>3</td>\n",
       "      <td>k403</td>\n",
       "      <td>Ramicane</td>\n",
       "      <td>Male</td>\n",
       "      <td>21</td>\n",
       "      <td>16</td>\n",
       "      <td>15</td>\n",
       "      <td>34.223992</td>\n",
       "      <td>1</td>\n",
       "    </tr>\n",
       "    <tr>\n",
       "      <td>4</td>\n",
       "      <td>k403</td>\n",
       "      <td>Ramicane</td>\n",
       "      <td>Male</td>\n",
       "      <td>21</td>\n",
       "      <td>16</td>\n",
       "      <td>20</td>\n",
       "      <td>32.997729</td>\n",
       "      <td>1</td>\n",
       "    </tr>\n",
       "  </tbody>\n",
       "</table>\n",
       "</div>"
      ],
      "text/plain": [
       "  Mouse ID Drug Regimen   Sex  Age_months  Weight (g)  Timepoint  \\\n",
       "0     k403     Ramicane  Male          21          16          0   \n",
       "1     k403     Ramicane  Male          21          16          5   \n",
       "2     k403     Ramicane  Male          21          16         10   \n",
       "3     k403     Ramicane  Male          21          16         15   \n",
       "4     k403     Ramicane  Male          21          16         20   \n",
       "\n",
       "   Tumor Volume (mm3)  Metastatic Sites  \n",
       "0           45.000000                 0  \n",
       "1           38.825898                 0  \n",
       "2           35.014271                 1  \n",
       "3           34.223992                 1  \n",
       "4           32.997729                 1  "
      ]
     },
     "execution_count": 1,
     "metadata": {},
     "output_type": "execute_result"
    }
   ],
   "source": [
    "# Dependencies and Setup\n",
    "import matplotlib.pyplot as plt\n",
    "import pandas as pd\n",
    "import scipy.stats as st\n",
    "from scipy.stats import linregress\n",
    "import numpy as np\n",
    "\n",
    "# Study data files\n",
    "mouse_metadata = \"data/Mouse_metadata.csv\"\n",
    "study_results = \"data/Study_results.csv\"\n",
    "\n",
    "# Read the mouse data and the study results\n",
    "mouse_metadata = pd.read_csv(mouse_metadata)\n",
    "study_results = pd.read_csv(study_results)\n",
    "#mouse_metadata.head()\n",
    "#study_results.head()\n",
    "\n",
    "# Combine the data into a single dataset\n",
    "merge_table = pd.merge(mouse_metadata, study_results, on=\"Mouse ID\", how=\"left\")\n",
    "merge_table.head()\n",
    "\n",
    "#Looking at counts of different columns\n",
    "#merge_table.count()\n",
    "\n",
    "#Value count of drug regimen\n",
    "#merge_table['Drug Regimen'].value_counts()\n",
    "\n",
    "#All unique druge regimen\n",
    "#merge_table[\"Drug Regimen\"].unique()\n",
    "\n",
    "#Unique values of the mouse IDs\n",
    "#merge_table['Mouse ID'].value_counts()\n",
    "\n",
    "#Number of unique Drug Regimens\n",
    "#drug_regimen_count = len(merge_table[\"Drug Regimen\"].unique())\n",
    "#drug_regimen_count"
   ]
  },
  {
   "cell_type": "markdown",
   "metadata": {},
   "source": [
    "## Summary statistics"
   ]
  },
  {
   "cell_type": "code",
   "execution_count": 2,
   "metadata": {},
   "outputs": [
    {
     "data": {
      "text/html": [
       "<div>\n",
       "<style scoped>\n",
       "    .dataframe tbody tr th:only-of-type {\n",
       "        vertical-align: middle;\n",
       "    }\n",
       "\n",
       "    .dataframe tbody tr th {\n",
       "        vertical-align: top;\n",
       "    }\n",
       "\n",
       "    .dataframe thead th {\n",
       "        text-align: right;\n",
       "    }\n",
       "</style>\n",
       "<table border=\"1\" class=\"dataframe\">\n",
       "  <thead>\n",
       "    <tr style=\"text-align: right;\">\n",
       "      <th></th>\n",
       "      <th>Mean</th>\n",
       "      <th>Median</th>\n",
       "      <th>Variance</th>\n",
       "      <th>Stan. Dev.</th>\n",
       "      <th>SEM</th>\n",
       "    </tr>\n",
       "    <tr>\n",
       "      <th>Drug Regimen</th>\n",
       "      <th></th>\n",
       "      <th></th>\n",
       "      <th></th>\n",
       "      <th></th>\n",
       "      <th></th>\n",
       "    </tr>\n",
       "  </thead>\n",
       "  <tbody>\n",
       "    <tr>\n",
       "      <td>Capomulin</td>\n",
       "      <td>40.675741</td>\n",
       "      <td>41.557809</td>\n",
       "      <td>24.947764</td>\n",
       "      <td>4.994774</td>\n",
       "      <td>0.329346</td>\n",
       "    </tr>\n",
       "    <tr>\n",
       "      <td>Ceftamin</td>\n",
       "      <td>52.591172</td>\n",
       "      <td>51.776157</td>\n",
       "      <td>39.290177</td>\n",
       "      <td>6.268188</td>\n",
       "      <td>0.469821</td>\n",
       "    </tr>\n",
       "    <tr>\n",
       "      <td>Infubinol</td>\n",
       "      <td>52.884795</td>\n",
       "      <td>51.820584</td>\n",
       "      <td>43.128684</td>\n",
       "      <td>6.567243</td>\n",
       "      <td>0.492236</td>\n",
       "    </tr>\n",
       "    <tr>\n",
       "      <td>Ketapril</td>\n",
       "      <td>55.235638</td>\n",
       "      <td>53.698743</td>\n",
       "      <td>68.553577</td>\n",
       "      <td>8.279709</td>\n",
       "      <td>0.603860</td>\n",
       "    </tr>\n",
       "    <tr>\n",
       "      <td>Naftisol</td>\n",
       "      <td>54.331565</td>\n",
       "      <td>52.509285</td>\n",
       "      <td>66.173479</td>\n",
       "      <td>8.134708</td>\n",
       "      <td>0.596466</td>\n",
       "    </tr>\n",
       "    <tr>\n",
       "      <td>Placebo</td>\n",
       "      <td>54.033581</td>\n",
       "      <td>52.288934</td>\n",
       "      <td>61.168083</td>\n",
       "      <td>7.821003</td>\n",
       "      <td>0.581331</td>\n",
       "    </tr>\n",
       "    <tr>\n",
       "      <td>Propriva</td>\n",
       "      <td>52.322552</td>\n",
       "      <td>50.854632</td>\n",
       "      <td>42.351070</td>\n",
       "      <td>6.507770</td>\n",
       "      <td>0.512884</td>\n",
       "    </tr>\n",
       "    <tr>\n",
       "      <td>Ramicane</td>\n",
       "      <td>40.216745</td>\n",
       "      <td>40.673236</td>\n",
       "      <td>23.486704</td>\n",
       "      <td>4.846308</td>\n",
       "      <td>0.320955</td>\n",
       "    </tr>\n",
       "    <tr>\n",
       "      <td>Stelasyn</td>\n",
       "      <td>54.233149</td>\n",
       "      <td>52.431737</td>\n",
       "      <td>59.450562</td>\n",
       "      <td>7.710419</td>\n",
       "      <td>0.573111</td>\n",
       "    </tr>\n",
       "    <tr>\n",
       "      <td>Zoniferol</td>\n",
       "      <td>53.236507</td>\n",
       "      <td>51.818479</td>\n",
       "      <td>48.533355</td>\n",
       "      <td>6.966589</td>\n",
       "      <td>0.516398</td>\n",
       "    </tr>\n",
       "  </tbody>\n",
       "</table>\n",
       "</div>"
      ],
      "text/plain": [
       "                   Mean     Median   Variance  Stan. Dev.       SEM\n",
       "Drug Regimen                                                       \n",
       "Capomulin     40.675741  41.557809  24.947764    4.994774  0.329346\n",
       "Ceftamin      52.591172  51.776157  39.290177    6.268188  0.469821\n",
       "Infubinol     52.884795  51.820584  43.128684    6.567243  0.492236\n",
       "Ketapril      55.235638  53.698743  68.553577    8.279709  0.603860\n",
       "Naftisol      54.331565  52.509285  66.173479    8.134708  0.596466\n",
       "Placebo       54.033581  52.288934  61.168083    7.821003  0.581331\n",
       "Propriva      52.322552  50.854632  42.351070    6.507770  0.512884\n",
       "Ramicane      40.216745  40.673236  23.486704    4.846308  0.320955\n",
       "Stelasyn      54.233149  52.431737  59.450562    7.710419  0.573111\n",
       "Zoniferol     53.236507  51.818479  48.533355    6.966589  0.516398"
      ]
     },
     "execution_count": 2,
     "metadata": {},
     "output_type": "execute_result"
    }
   ],
   "source": [
    "# Generate a summary statistics table of mean, median, variance, standard deviation, and SEM of the tumor volume for each regimen\n",
    "\n",
    "#Counting drug regimen\n",
    "#drug_regimen_counts = merge_table[\"Drug Regimen\"].value_counts()\n",
    "#drug_regimen_counts.head()\n",
    "\n",
    "#Gropuing by drug regimen - Still dont understand why this doesn't display grouped drug data? Only shows correct table when you build data frame at the end or use \"nunique\" at the end of the drug_group_regimen variable\n",
    "group_drug_regimen = merge_table.groupby(['Drug Regimen'])\n",
    "#group_drug_regimen.head(50)\n",
    "\n",
    "#Summary Statistics\n",
    "mean = group_drug_regimen['Tumor Volume (mm3)'].mean()\n",
    "median = group_drug_regimen['Tumor Volume (mm3)'].median()\n",
    "variance = group_drug_regimen['Tumor Volume (mm3)'].var()\n",
    "stdv = group_drug_regimen['Tumor Volume (mm3)'].std()\n",
    "sem = group_drug_regimen['Tumor Volume (mm3)'].sem()\n",
    "summary_stats_df = pd.DataFrame({\"Mean\": mean,\n",
    "                                \"Median\": median,\n",
    "                                \"Variance\": variance,\n",
    "                                \"Stan. Dev.\": stdv,\n",
    "                                \"SEM\": sem})\n",
    "\n",
    "summary_stats_df\n"
   ]
  },
  {
   "cell_type": "markdown",
   "metadata": {},
   "source": [
    "## Bar plots"
   ]
  },
  {
   "cell_type": "code",
   "execution_count": 3,
   "metadata": {},
   "outputs": [
    {
     "data": {
      "image/png": "[encoded data removed]",
      "text/plain": [
       "<Figure size 720x216 with 1 Axes>"
      ]
     },
     "metadata": {
      "needs_background": "light"
     },
     "output_type": "display_data"
    }
   ],
   "source": [
    "# Generate a bar plot showing number of data points for each treatment regimen using pandas\n",
    "regimen_data_points = pd.DataFrame(group_drug_regimen['Mouse ID'].count())\n",
    "\n",
    "regimen_data_points = regimen_data_points.rename(columns={'Mouse ID': 'Count'})\n",
    "\n",
    "#Plot data points for drug regimen\n",
    "regimen_data_points.plot(kind='bar', figsize=(10,3))\n",
    "plt.title('Count per Drug Regimen')\n",
    "plt.show()\n"
   ]
  },
  {
   "cell_type": "code",
   "execution_count": 4,
   "metadata": {},
   "outputs": [
    {
     "data": {
      "text/plain": [
       "Text(0, 0.5, 'Count')"
      ]
     },
     "execution_count": 4,
     "metadata": {},
     "output_type": "execute_result"
    },
    {
     "data": {
      "image/png": "[encoded data removed]",
      "text/plain": [
       "<Figure size 720x288 with 1 Axes>"
      ]
     },
     "metadata": {
      "needs_background": "light"
     },
     "output_type": "display_data"
    }
   ],
   "source": [
    "# Generate a bar plot showing number of data points for each treatment regimen using pyplot\n",
    "regimen_drug_name = regimen_data_points.index\n",
    "regimen_drug_count = group_drug_regimen['Mouse ID'].count()\n",
    "\n",
    "#X-axis ticks and labels\n",
    "x_axis = np.arange(len(regimen_drug_count))\n",
    "x_axis = regimen_drug_name\n",
    "\n",
    "#Platting bar graph and formatting\n",
    "plt.figure(figsize=(10,4))\n",
    "plt.bar(x_axis, regimen_drug_count, color= 'b', alpha=0.5, align='center')\n",
    "plt.title(\"Count per Drug Regimen\")\n",
    "plt.xlabel(\"Drug Regmien\")\n",
    "plt.ylabel(\"Count\")\n",
    "\n",
    "\n"
   ]
  },
  {
   "cell_type": "markdown",
   "metadata": {},
   "source": [
    "## Pie plots"
   ]
  },
  {
   "cell_type": "code",
   "execution_count": 5,
   "metadata": {},
   "outputs": [
    {
     "ename": "NameError",
     "evalue": "name 'group_gender2' is not defined",
     "output_type": "error",
     "traceback": [
      "\u001b[1;31m---------------------------------------------------------------------------\u001b[0m",
      "\u001b[1;31mNameError\u001b[0m                                 Traceback (most recent call last)",
      "\u001b[1;32m<ipython-input-5-4aea92e1b57b>\u001b[0m in \u001b[0;36m<module>\u001b[1;34m\u001b[0m\n\u001b[0;32m     11\u001b[0m \u001b[1;33m\u001b[0m\u001b[0m\n\u001b[0;32m     12\u001b[0m \u001b[1;31m#Plot data points for drug regimen\u001b[0m\u001b[1;33m\u001b[0m\u001b[1;33m\u001b[0m\u001b[1;33m\u001b[0m\u001b[0m\n\u001b[1;32m---> 13\u001b[1;33m group_gender2.plot(kind='pie', y='Count', autopct='%1.1f%%', \n\u001b[0m\u001b[0;32m     14\u001b[0m                   startangle=90, fontsize=16, figsize=(20,5))\n\u001b[0;32m     15\u001b[0m \u001b[0mplt\u001b[0m\u001b[1;33m.\u001b[0m\u001b[0mtitle\u001b[0m\u001b[1;33m(\u001b[0m\u001b[1;34m'Count per Drug Regimen'\u001b[0m\u001b[1;33m)\u001b[0m\u001b[1;33m\u001b[0m\u001b[1;33m\u001b[0m\u001b[0m\n",
      "\u001b[1;31mNameError\u001b[0m: name 'group_gender2' is not defined"
     ]
    }
   ],
   "source": [
    "# Generate a pie plot showing the distribution of female versus male mice using pandas\n",
    "group_gender = pd.DataFrame(merge_table.groupby(['Sex'])['Mouse ID'].count())\n",
    "group_gender = group_gender.rename(columns={'Mouse ID': 'Count'})\n",
    "\n",
    "group_gender.head()\n",
    "\n",
    "#Filtering to gender and count of Mouse ID\n",
    "#group_gender = group_gender['Mouse ID']\n",
    "#group_gender.head()\n",
    "\n",
    "\n",
    "#Plot data points for drug regimen\n",
    "group_gender2.plot(kind='pie', y='Count', autopct='%1.1f%%', \n",
    "                  startangle=90, fontsize=16, figsize=(20,5))\n",
    "plt.title('Count per Drug Regimen')\n",
    "plt.show()\n"
   ]
  },
  {
   "cell_type": "code",
   "execution_count": null,
   "metadata": {},
   "outputs": [],
   "source": [
    "# Generate a pie plot showing the distribution of female versus male mice using pyplot\n",
    "#Putting gender titles and counts into lists to plot\n",
    "gender_title = group_gender.index\n",
    "#gender_title\n",
    "gender_count = group_gender['Count']\n",
    "#gender_count\n",
    "\n",
    "#Tells matplotlib to separate this plot from others\n",
    "explode = (0.1,0)\n",
    "\n",
    "#Format colors\n",
    "colors = [\"Orange\", \"Blue\"]\n",
    "\n",
    "plt.pie(gender_count, explode=explode, labels=gender_title, colors=colors,\n",
    "       autopct=\"%1.1f%%\", shadow=True, startangle=140)\n"
   ]
  },
  {
   "cell_type": "markdown",
   "metadata": {},
   "source": [
    "## Quartiles, outliers and boxplots"
   ]
  },
  {
   "cell_type": "code",
   "execution_count": null,
   "metadata": {},
   "outputs": [],
   "source": [
    "# Calculate the final tumor volume of each mouse across four of the most promising treatment regimens. Calculate the IQR and quantitatively determine if there are any potential outliers. \n",
    "#Retrieve final tumor volume (timepoint 45) for each mouse and sort ascending to get lowest or best drug regimen\n",
    "final_timepoint = merge_table.loc[merge_table[\"Timepoint\"] == 45]\n",
    "#final_timepoint_sort = final_timepoint.sort_values(['Tumor Volume (mm3)'], ascending=True)\n",
    "final_timepoint.head(50)\n"
   ]
  },
  {
   "cell_type": "code",
   "execution_count": null,
   "metadata": {},
   "outputs": [],
   "source": [
    "#Capomulin analysis, filtering down to drug and tumor volume\n",
    "#cap_data = final_timepoint.loc[final_timepoint[\"Drug Regimen\"] == \"Capomulin\"]\n",
    "cap_data = final_timepoint[final_timepoint[\"Drug Regimen\"].isin([\"Capomulin\"])]\n",
    "#cap_data = cap_45_data.sort_values(['Tumor Volume (mm3)'], ascending=True)\n",
    "cap_data = cap_data['Tumor Volume (mm3)']\n",
    "cap_data\n",
    "\n",
    "#Applying quartile ranges and printing results\n",
    "quartiles = cap_data.quantile([.25, .5, .75])\n",
    "lowerq = quartiles[.25]\n",
    "upperq = quartiles[.75]\n",
    "iqr = upperq-lowerq\n",
    "lower_bound = lowerq - (1.5*iqr)\n",
    "upper_bound = upperq - (1.5*iqr)\n",
    "\n",
    "print(f\"The lower quartile of Tumor Volume is: {lowerq}\")\n",
    "print(f\"The upper quartile of Tumor Volume is: {upperq}\")\n",
    "print(f\"The interquartile range of Tumor Volume is: {iqr}\")\n",
    "print(f\"The the median of Tumor Volume is: {quartiles[0.5]} \")\n",
    "print(f\"Values below {lower_bound} could be outliers.\")\n",
    "print(f\"Values above {upper_bound} could be outliers.\")\n",
    "\n",
    "\n",
    "\n",
    "\n",
    "\n",
    "\n",
    "\n",
    "#Atttempt at making a loop to retrieve data for each drug\n",
    "\n",
    "# drugs = [\"Capomulin\", \"Ramicane\", \"Infubinol\", \"Ceftamin\"]\n",
    "# cap = []\n",
    "# ram = []\n",
    "# inf = []\n",
    "# cef = []\n",
    "\n",
    "# for drug in drugs:\n",
    "#     final_timepoint[final_timepoint[\"Drug Regimen\"].isin(['Drug'])]\n",
    "#     cap.append(final_timepoint['Tumor Volume (mm3)'])\n",
    "\n",
    "# cap\n",
    "\n",
    "# drugs = {\n",
    "#         'Capomulin': [],\n",
    "#         'Ramicane': [], \n",
    "#         'Infubinol' : [], \n",
    "#         'Ceftamin': []\n",
    "# }\n",
    "\n",
    "\n",
    "# for drug in drugs:\n",
    "#     final_timepoint[final_timepoint[\"Drug Regimen\"].isin(['Drug'])]\n",
    "#     drugs.append(final_timepoint['Tumor Volume (mm3)'])\n",
    "\n",
    "# drugs['Capomulin']\n",
    "\n",
    "\n"
   ]
  },
  {
   "cell_type": "code",
   "execution_count": null,
   "metadata": {},
   "outputs": [],
   "source": [
    "#Ramicane\n",
    "ram_data = final_timepoint[final_timepoint[\"Drug Regimen\"].isin([\"Ramicane\"])]\n",
    "ram_data = ram_data['Tumor Volume (mm3)']\n",
    "ram_data\n",
    "\n",
    "#Applying quartile ranges and printing results\n",
    "quartiles = ram_data.quantile([.25, .5, .75])\n",
    "lowerq = quartiles[.25]\n",
    "upperq = quartiles[.75]\n",
    "iqr = upperq-lowerq\n",
    "lower_bound = lowerq - (1.5*iqr)\n",
    "upper_bound = upperq - (1.5*iqr)\n",
    "\n",
    "print(f\"The lower quartile of Tumor Volume is: {lowerq}\")\n",
    "print(f\"The upper quartile of Tumor Volume is: {upperq}\")\n",
    "print(f\"The interquartile range of Tumor Volume is: {iqr}\")\n",
    "print(f\"The the median of Tumor Volume is: {quartiles[0.5]} \")\n",
    "print(f\"Values below {lower_bound} could be outliers.\")\n",
    "print(f\"Values above {upper_bound} could be outliers.\")\n",
    "\n",
    "\n",
    "\n",
    "\n"
   ]
  },
  {
   "cell_type": "code",
   "execution_count": null,
   "metadata": {},
   "outputs": [],
   "source": [
    "#Infubinol\n",
    "inf_data = final_timepoint[final_timepoint[\"Drug Regimen\"].isin([\"Infubinol\"])]\n",
    "inf_data = inf_data['Tumor Volume (mm3)']\n",
    "inf_data\n",
    "\n",
    "#Applying quartile ranges and printing results\n",
    "quartiles = inf_data.quantile([.25, .5, .75])\n",
    "lowerq = quartiles[.25]\n",
    "upperq = quartiles[.75]\n",
    "iqr = upperq-lowerq\n",
    "lower_bound = lowerq - (1.5*iqr)\n",
    "upper_bound = upperq - (1.5*iqr)\n",
    "\n",
    "print(f\"The lower quartile of Tumor Volume is: {lowerq}\")\n",
    "print(f\"The upper quartile of Tumor Volume is: {upperq}\")\n",
    "print(f\"The interquartile range of Tumor Volume is: {iqr}\")\n",
    "print(f\"The the median of Tumor Volume is: {quartiles[0.5]} \")\n",
    "print(f\"Values below {lower_bound} could be outliers.\")\n",
    "print(f\"Values above {upper_bound} could be outliers.\")\n",
    "\n",
    "\n"
   ]
  },
  {
   "cell_type": "code",
   "execution_count": null,
   "metadata": {},
   "outputs": [],
   "source": [
    "#Ceftamin\n",
    "cef_data = final_timepoint[final_timepoint[\"Drug Regimen\"].isin([\"Ceftamin\"])]\n",
    "cef_data = cef_data['Tumor Volume (mm3)']\n",
    "cef_data\n",
    "\n",
    "#Applying quartile ranges and printing results\n",
    "quartiles = cef_data.quantile([.25, .5, .75])\n",
    "lowerq = quartiles[.25]\n",
    "upperq = quartiles[.75]\n",
    "iqr = upperq-lowerq\n",
    "lower_bound = lowerq - (1.5*iqr)\n",
    "upper_bound = upperq - (1.5*iqr)\n",
    "\n",
    "print(f\"The lower quartile of Tumor Volume is: {lowerq}\")\n",
    "print(f\"The upper quartile of Tumor Volume is: {upperq}\")\n",
    "print(f\"The interquartile range of Tumor Volume is: {iqr}\")\n",
    "print(f\"The the median of Tumor Volume is: {quartiles[0.5]} \")\n",
    "print(f\"Values below {lower_bound} could be outliers.\")\n",
    "print(f\"Values above {upper_bound} could be outliers.\")\n",
    "\n",
    "\n",
    "\n"
   ]
  },
  {
   "cell_type": "code",
   "execution_count": null,
   "metadata": {},
   "outputs": [],
   "source": [
    "# Generate a box plot of the final tumor volume of each mouse across four regimens of interest\n",
    "total_data = [cap_data, ram_data, inf_data, cef_data]\n",
    "fig, ax1 = plt.subplots()\n",
    "ax1.set_xticklabels([\"Capomulin\", \"Ramicane\", \"Infubinol\", \"Ceftamin\"])\n",
    "ax1.set_title('Ending Tumor Volume for Drug Regimens')\n",
    "ax1.set_ylabel('Final Tumor Volume (mm3)')\n",
    "ax1.boxplot(total_data)\n",
    "plt.show\n",
    "\n",
    "\n",
    "\n",
    "\n",
    "\n"
   ]
  },
  {
   "cell_type": "markdown",
   "metadata": {},
   "source": [
    "## Line and scatter plots"
   ]
  },
  {
   "cell_type": "code",
   "execution_count": 6,
   "metadata": {},
   "outputs": [
    {
     "data": {
      "text/plain": [
       "<matplotlib.axes._subplots.AxesSubplot at 0x2769ffdd988>"
      ]
     },
     "execution_count": 6,
     "metadata": {},
     "output_type": "execute_result"
    },
    {
     "data": {
      "image/png": "[encoded data removed]",
      "text/plain": [
       "<Figure size 720x576 with 1 Axes>"
      ]
     },
     "metadata": {
      "needs_background": "light"
     },
     "output_type": "display_data"
    }
   ],
   "source": [
    "# Generate a line plot of time point versus tumor volume for a mouse treated with Capomulin\n",
    "capomulin_data = merge_table.loc[merge_table[\"Drug Regimen\"] == \"Capomulin\"]\n",
    "capomulin_data = capomulin_data.reset_index()\n",
    "capomulin_s185 = capomulin_data.loc[capomulin_data[\"Mouse ID\"] == \"s185\"]\n",
    "\n",
    "\n",
    "#capomulin_data\n",
    "\n",
    "capomulin_s185 = capomulin_s185.loc[:, [\"Timepoint\", \"Tumor Volume (mm3)\"]]\n",
    "capomulin_s185.set_index('Timepoint').plot(figsize=(10, 8), linewidth=2.5, color='green')\n",
    "\n"
   ]
  },
  {
   "cell_type": "code",
   "execution_count": 7,
   "metadata": {},
   "outputs": [
    {
     "data": {
      "text/plain": [
       "<matplotlib.axes._subplots.AxesSubplot at 0x276a1539708>"
      ]
     },
     "execution_count": 7,
     "metadata": {},
     "output_type": "execute_result"
    },
    {
     "data": {
      "image/png": "[encoded data removed]",
      "text/plain": [
       "<Figure size 288x288 with 1 Axes>"
      ]
     },
     "metadata": {
      "needs_background": "light"
     },
     "output_type": "display_data"
    }
   ],
   "source": [
    "# Generate a scatter plot of mouse weight versus average tumor volume for the Capomulin regimen\n",
    "#Filtering to specific columns needed\n",
    "capomulin_time_data = capomulin_data.loc[:, ['Mouse ID', 'Weight (g)', 'Tumor Volume (mm3)']]\n",
    "capomulin_time_data.head(50)\n",
    "\n",
    "cap_average_vol = pd.DataFrame(capomulin_time_data.groupby([\"Mouse ID\", \"Weight (g)\"])[\"Tumor Volume (mm3)\"].mean()).reset_index()\n",
    "cap_average_vol = cap_average_vol.rename(columns={\"Tumor Volume (mm3)\": \"Average Volume\"})                       \n",
    "cap_average_vol = cap_average_vol.set_index(\"Mouse ID\")\n",
    "cap_average_vol\n",
    "\n",
    "cap_average_vol.plot(kind=\"scatter\", x=\"Weight (g)\", y=\"Average Volume\", grid=True, figsize=(4,4),\n",
    "                 title=\"Weight Vs. Average Tumor Volume\")\n"
   ]
  },
  {
   "cell_type": "code",
   "execution_count": 8,
   "metadata": {},
   "outputs": [
    {
     "name": "stdout",
     "output_type": "stream",
     "text": [
      "The correlation between both factors is 0.84\n"
     ]
    }
   ],
   "source": [
    "# Calculate the correlation coefficient and linear regression model for mouse weight and average tumor volume for the Capomulin regimen\n",
    "mouse_weight = cap_average_vol.iloc[:,0]\n",
    "avg_tumor_vol = cap_average_vol.iloc[:,1]\n",
    "correlation = st.pearsonr(mouse_weight, avg_tumor_vol)\n",
    "print(f\"The correlation between both factors is {round(correlation[0],2)}\")\n",
    "                                    \n",
    "\n",
    "\n",
    "\n",
    "\n"
   ]
  },
  {
   "cell_type": "code",
   "execution_count": 9,
   "metadata": {},
   "outputs": [
    {
     "data": {
      "image/png": "[encoded data removed]",
      "text/plain": [
       "<Figure size 432x288 with 1 Axes>"
      ]
     },
     "metadata": {
      "needs_background": "light"
     },
     "output_type": "display_data"
    }
   ],
   "source": [
    "#Addign linear regression equation\n",
    "x_values = cap_average_vol['Weight (g)']\n",
    "y_values = cap_average_vol['Average Volume']\n",
    "(slope, intercept, rvalue, pvalue, stderr) = linregress(x_values, y_values)\n",
    "regress_values = x_values * slope + intercept\n",
    "line_eq = \"y = \" + str(round(slope,2)) + \"x + \" + str(round(intercept,2))\n",
    "plt.scatter(x_values,y_values)\n",
    "plt.plot(x_values,regress_values,\"r-\")\n",
    "plt.annotate(line_eq,(6,10),fontsize=15,color=\"red\")\n",
    "plt.xlabel('Mouse Weight')\n",
    "plt.ylabel('Average Tumor Volume')\n",
    "plt.show()\n"
   ]
  },
  {
   "cell_type": "code",
   "execution_count": null,
   "metadata": {},
   "outputs": [],
   "source": []
  },
  {
   "cell_type": "code",
   "execution_count": null,
   "metadata": {},
   "outputs": [],
   "source": []
  },
  {
   "cell_type": "code",
   "execution_count": null,
   "metadata": {},
   "outputs": [],
   "source": []
  }
 ],
 "metadata": {
  "anaconda-cloud": {},
  "kernelspec": {
   "display_name": "Python 3",
   "language": "python",
   "name": "python3"
  },
  "language_info": {
   "codemirror_mode": {
    "name": "ipython",
    "version": 3
   },
   "file_extension": ".py",
   "mimetype": "text/x-python",
   "name": "python",
   "nbconvert_exporter": "python",
   "pygments_lexer": "ipython3",
   "version": "3.7.4"
  }
 },
 "nbformat": 4,
 "nbformat_minor": 2
}
